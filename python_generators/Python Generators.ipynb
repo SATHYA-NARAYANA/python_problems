{
 "cells": [
  {
   "cell_type": "code",
   "execution_count": 1,
   "id": "c3f994e7",
   "metadata": {},
   "outputs": [
    {
     "data": {
      "text/plain": [
       "'Python Generators can work with large dataset'"
      ]
     },
     "execution_count": 1,
     "metadata": {},
     "output_type": "execute_result"
    }
   ],
   "source": [
    "\"\"\"Python Generators can work with large dataset\"\"\""
   ]
  },
  {
   "cell_type": "code",
   "execution_count": 33,
   "id": "0c7a2576",
   "metadata": {},
   "outputs": [],
   "source": [
    "list_of_words = [\"Apple\", \"Orange\", \"Luffy\", \"Zorro\", \"Red\", \"Amazon\", \"Lotus\", \"Light\", \"Mighty\", \"Brook\", \"Chanler\", \"Joey\"]"
   ]
  },
  {
   "cell_type": "code",
   "execution_count": 13,
   "id": "f5f49c11",
   "metadata": {},
   "outputs": [
    {
     "name": "stdout",
     "output_type": "stream",
     "text": [
      "['Zorro', 'Amazon', 'Lotus', 'Brook', 'Joey']\n"
     ]
    }
   ],
   "source": [
    "def words_that_contain_o (words):\n",
    "    o_words = []\n",
    "    for word in words:\n",
    "        if \"o\" in word:\n",
    "            o_words.append(word)\n",
    "    return o_words    \n",
    "print (words_that_contain_o(list_of_words))"
   ]
  },
  {
   "cell_type": "code",
   "execution_count": 9,
   "id": "be9d3fca",
   "metadata": {},
   "outputs": [
    {
     "name": "stdout",
     "output_type": "stream",
     "text": [
      "[]\n"
     ]
    }
   ],
   "source": [
    "print (words_that_contain_o(list_of_words))"
   ]
  },
  {
   "cell_type": "code",
   "execution_count": 25,
   "id": "28ee2bc2",
   "metadata": {},
   "outputs": [],
   "source": [
    "#the power of generator keyword yield \n",
    "def words_that_contain_o (words):\n",
    "    for word in words:\n",
    "        if \"o\" in word:\n",
    "            yield word\n",
    "            "
   ]
  },
  {
   "cell_type": "code",
   "execution_count": 16,
   "id": "ad70bb02",
   "metadata": {},
   "outputs": [
    {
     "name": "stdout",
     "output_type": "stream",
     "text": [
      "<generator object words_that_contain_o at 0x0000023469914DD0>\n"
     ]
    }
   ],
   "source": [
    "#This will convert into object but to see this in list we have to add it to list \n",
    "print (words_that_contain_o(list_of_words))"
   ]
  },
  {
   "cell_type": "code",
   "execution_count": 20,
   "id": "b6fa13e5",
   "metadata": {},
   "outputs": [
    {
     "name": "stdout",
     "output_type": "stream",
     "text": [
      "['Zorro', 'Amazon', 'Lotus', 'Brook', 'Joey']\n"
     ]
    },
    {
     "data": {
      "text/plain": [
       "' 1. Number of lines 2. Saves memory '"
      ]
     },
     "execution_count": 20,
     "metadata": {},
     "output_type": "execute_result"
    }
   ],
   "source": [
    "print (list(words_that_contain_o(list_of_words)))\n",
    "# generator function helps \n",
    "\"\"\" 1. Number of lines 2. Saves memory \"\"\""
   ]
  },
  {
   "cell_type": "code",
   "execution_count": 21,
   "id": "0994e8af",
   "metadata": {},
   "outputs": [],
   "source": [
    "# Generator objects can be converted into various types like list"
   ]
  },
  {
   "cell_type": "code",
   "execution_count": 22,
   "id": "b134320c",
   "metadata": {},
   "outputs": [
    {
     "name": "stdout",
     "output_type": "stream",
     "text": [
      "['Zorro', 'Amazon', 'Lotus', 'Brook', 'Joey']\n"
     ]
    }
   ],
   "source": [
    "# Various operations supported by Generator objects \n",
    "# 1. It can be converted to list\n",
    "\n",
    "generator_object = words_that_contain_o(list_of_words)\n",
    "\n",
    "print (list(generator_object))"
   ]
  },
  {
   "cell_type": "code",
   "execution_count": 31,
   "id": "7b4215f7",
   "metadata": {},
   "outputs": [
    {
     "name": "stdout",
     "output_type": "stream",
     "text": [
      "{'Lotus', 'Joey', 'Zorro', 'Amazon', 'Brook'}\n"
     ]
    }
   ],
   "source": [
    "# Various operations supported by Generator objects \n",
    "# 2. It can be converted to set\n",
    "\n",
    "print (set(words_that_contain_o(list_of_words)))"
   ]
  },
  {
   "cell_type": "code",
   "execution_count": 35,
   "id": "023e5e3a",
   "metadata": {},
   "outputs": [
    {
     "name": "stdout",
     "output_type": "stream",
     "text": [
      "('Zorro', 'Amazon', 'Lotus', 'Brook', 'Joey')\n"
     ]
    }
   ],
   "source": [
    "# Various operations supported by Generator objects \n",
    "# 3. It can be converted to tuple\n",
    "\n",
    "print (tuple(words_that_contain_o(list_of_words)))\n",
    "\n",
    "# if we convert into variable , it can be used only once. the variable will be exausted if its already used previously."
   ]
  },
  {
   "cell_type": "code",
   "execution_count": 36,
   "id": "e9663f9d",
   "metadata": {},
   "outputs": [],
   "source": [
    "list_of_words = [\"Apple\", \"Orange\", \"Luffy\", \"Zorro\", \"Red\", \"Amazon\", \"Lotus\", \"Light\", \"Mighty\", \"Brook\", \"Chanler\", \"Joey\"]"
   ]
  },
  {
   "cell_type": "code",
   "execution_count": 37,
   "id": "8486dc18",
   "metadata": {},
   "outputs": [
    {
     "name": "stdout",
     "output_type": "stream",
     "text": [
      "Zorro\n",
      "Amazon\n",
      "Lotus\n",
      "Brook\n",
      "Joey\n"
     ]
    }
   ],
   "source": [
    "# Various operations supported by Generator objects \n",
    "# 4. It can be converted to loop\n",
    "\n",
    "for element in generator_object:\n",
    "    print(element)"
   ]
  },
  {
   "cell_type": "markdown",
   "id": "4710e41b",
   "metadata": {},
   "source": [
    "# If we convert into variable , it can be used only once. the variable will be exausted if its already used previously."
   ]
  },
  {
   "cell_type": "code",
   "execution_count": 50,
   "id": "6ec1f56d",
   "metadata": {},
   "outputs": [
    {
     "name": "stdout",
     "output_type": "stream",
     "text": [
      "<generator object words_that_contain_o at 0x0000023469865120>\n",
      "['Zorro', 'Amazon', 'Lotus', 'Brook', 'Joey']\n",
      "{'Lotus', 'Joey', 'Zorro', 'Amazon', 'Brook'}\n",
      "('Zorro', 'Amazon', 'Lotus', 'Brook', 'Joey')\n",
      "Zorro\n",
      "Amazon\n",
      "Lotus\n",
      "Brook\n",
      "Joey\n"
     ]
    }
   ],
   "source": [
    "list_of_words = [\"Apple\", \"Orange\", \"Luffy\", \"Zorro\", \"Red\", \"Amazon\", \"Lotus\", \"Light\", \"Mighty\", \"Brook\", \"Chanler\", \"Joey\"]\n",
    "def words_that_contain_o (words):\n",
    "    for word in words:\n",
    "        if \"o\" in word:\n",
    "            yield word\n",
    "print (words_that_contain_o(list_of_words))\n",
    "generator_object = words_that_contain_o(list_of_words)\n",
    "print (list(words_that_contain_o(list_of_words)))\n",
    "print (set(words_that_contain_o(list_of_words)))\n",
    "print (tuple(words_that_contain_o(list_of_words)))\n",
    "for element in generator_object:\n",
    "    print(element)"
   ]
  },
  {
   "cell_type": "code",
   "execution_count": 56,
   "id": "1ee5fd6c",
   "metadata": {},
   "outputs": [
    {
     "name": "stdout",
     "output_type": "stream",
     "text": [
      "Zorro\n",
      "Amazon\n",
      "Lotus\n",
      "Brook\n",
      "Joey\n"
     ]
    },
    {
     "ename": "StopIteration",
     "evalue": "",
     "output_type": "error",
     "traceback": [
      "\u001b[1;31m---------------------------------------------------------------------------\u001b[0m",
      "\u001b[1;31mStopIteration\u001b[0m                             Traceback (most recent call last)",
      "Input \u001b[1;32mIn [56]\u001b[0m, in \u001b[0;36m<cell line: 10>\u001b[1;34m()\u001b[0m\n\u001b[0;32m      8\u001b[0m \u001b[38;5;28mprint\u001b[39m(\u001b[38;5;28mnext\u001b[39m(generator_object))\n\u001b[0;32m      9\u001b[0m \u001b[38;5;66;03m#We will get error after 5 print as we have only 5 elements with o word, We can use this to handle errors, this is how we can interact with generator objects\u001b[39;00m\n\u001b[1;32m---> 10\u001b[0m \u001b[38;5;28mprint\u001b[39m(\u001b[38;5;28;43mnext\u001b[39;49m\u001b[43m(\u001b[49m\u001b[43mgenerator_object\u001b[49m\u001b[43m)\u001b[49m)\n",
      "\u001b[1;31mStopIteration\u001b[0m: "
     ]
    }
   ],
   "source": [
    "# Various operations supported by Generator objects \n",
    "# 5. Generator object using next\n",
    "generator_object = words_that_contain_o(list_of_words)\n",
    "print(next(generator_object))\n",
    "print(next(generator_object))\n",
    "print(next(generator_object))\n",
    "print(next(generator_object))\n",
    "print(next(generator_object))\n",
    "#We will get error after 5 print as we have only 5 elements with o word, We can use this to handle errors, this is how we can interact with generator objects\n",
    "print(next(generator_object))\n"
   ]
  },
  {
   "cell_type": "code",
   "execution_count": null,
   "id": "1cacd58e",
   "metadata": {},
   "outputs": [],
   "source": []
  }
 ],
 "metadata": {
  "kernelspec": {
   "display_name": "Python 3 (ipykernel)",
   "language": "python",
   "name": "python3"
  },
  "language_info": {
   "codemirror_mode": {
    "name": "ipython",
    "version": 3
   },
   "file_extension": ".py",
   "mimetype": "text/x-python",
   "name": "python",
   "nbconvert_exporter": "python",
   "pygments_lexer": "ipython3",
   "version": "3.9.12"
  }
 },
 "nbformat": 4,
 "nbformat_minor": 5
}
